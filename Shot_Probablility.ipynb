{
  "nbformat": 4,
  "nbformat_minor": 0,
  "metadata": {
    "colab": {
      "provenance": [],
      "authorship_tag": "ABX9TyN7BHjsrZkCwTniVIyfOIjj",
      "include_colab_link": true
    },
    "kernelspec": {
      "name": "python3",
      "display_name": "Python 3"
    },
    "language_info": {
      "name": "python"
    }
  },
  "cells": [
    {
      "cell_type": "markdown",
      "metadata": {
        "id": "view-in-github",
        "colab_type": "text"
      },
      "source": [
        "<a href=\"https://colab.research.google.com/github/Ekansh236/NBA-Shot-Probability-Model/blob/main/Shot_Probablility.ipynb\" target=\"_parent\"><img src=\"https://colab.research.google.com/assets/colab-badge.svg\" alt=\"Open In Colab\"/></a>"
      ]
    },
    {
      "cell_type": "code",
      "execution_count": 2,
      "metadata": {
        "colab": {
          "base_uri": "https://localhost:8080/"
        },
        "id": "23en7NxG885z",
        "outputId": "b83e7041-6837-452d-a8a2-b63b37e27a1a"
      },
      "outputs": [
        {
          "output_type": "stream",
          "name": "stdout",
          "text": [
            "Index(['GAME_ID', 'MATCHUP', 'LOCATION', 'W', 'FINAL_MARGIN', 'SHOT_NUMBER',\n",
            "       'PERIOD', 'GAME_CLOCK', 'SHOT_CLOCK', 'DRIBBLES', 'TOUCH_TIME',\n",
            "       'SHOT_DIST', 'PTS_TYPE', 'SHOT_RESULT', 'CLOSEST_DEFENDER',\n",
            "       'CLOSEST_DEFENDER_PLAYER_ID', 'CLOSE_DEF_DIST', 'FGM', 'PTS',\n",
            "       'player_name', 'player_id'],\n",
            "      dtype='object')\n",
            "Accuracy: 0.601893800253051\n",
            "Confusion Matrix:\n",
            "[[9346 4093]\n",
            " [5661 5401]]\n",
            "Classification Report:\n",
            "              precision    recall  f1-score   support\n",
            "\n",
            "           0       0.62      0.70      0.66     13439\n",
            "           1       0.57      0.49      0.53     11062\n",
            "\n",
            "    accuracy                           0.60     24501\n",
            "   macro avg       0.60      0.59      0.59     24501\n",
            "weighted avg       0.60      0.60      0.60     24501\n",
            "\n"
          ]
        }
      ],
      "source": [
        "import pandas as pd\n",
        "import numpy as np\n",
        "from sklearn.model_selection import train_test_split\n",
        "from sklearn.linear_model import LogisticRegression\n",
        "from sklearn.metrics import accuracy_score, confusion_matrix, classification_report\n",
        "import matplotlib.pyplot as plt\n",
        "import seaborn as sns\n",
        "\n",
        "# 1. Load the Data\n",
        "data = pd.read_csv('/content/shot_logs.csv')\n",
        "\n",
        "# Preview the dataset\n",
        "# 2. Preprocess the Data\n",
        "# Drop rows with missing values\n",
        "data = data.dropna()\n",
        "\n",
        "print(data.columns)\n",
        "\n",
        "# Convert categorical features like player names to numerical values\n",
        "data['CLOSEST_DEFENDER'] = data['CLOSEST_DEFENDER'].astype('category').cat.codes\n",
        "data['player_name'] = data['player_name'].astype('category').cat.codes\n",
        "data['LOCATION'] = data['LOCATION'].map({'HOME': 1, 'AWAY': 0})\n",
        "\n",
        "\n",
        "# 3. Feature Engineering\n",
        "# We no longer filter only 3-pointers. Instead, we use all shots.\n",
        "# Define features (X) and target variable (y)\n",
        "features = ['DRIBBLES', 'TOUCH_TIME', 'SHOT_DIST', 'CLOSE_DEF_DIST', 'PTS_TYPE']\n",
        "X = data[features]\n",
        "y = data['FGM']  # FGM (Field Goal Made) is the target variable\n",
        "\n",
        "X = X.dropna()\n",
        "y = y[X.index]\n",
        "\n",
        "# 4. Train the Model\n",
        "X_train, X_test, y_train, y_test = train_test_split(X, y, test_size=0.2, random_state=42)\n",
        "\n",
        "model = LogisticRegression(max_iter=1000)\n",
        "model.fit(X_train, y_train)\n",
        "\n",
        "# 5. Make Predictions\n",
        "y_pred = model.predict(X_test)\n",
        "\n",
        "# 6. Evaluate the Model\n",
        "accuracy = accuracy_score(y_test, y_pred)\n",
        "conf_matrix = confusion_matrix(y_test, y_pred)\n",
        "class_report = classification_report(y_test, y_pred)\n",
        "\n",
        "print(f'Accuracy: {accuracy}')\n",
        "print('Confusion Matrix:')\n",
        "print(conf_matrix)\n",
        "print('Classification Report:')\n",
        "print(class_report)\n"
      ]
    }
  ]
}